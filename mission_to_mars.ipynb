{
 "cells": [
  {
   "cell_type": "code",
   "execution_count": 1,
   "metadata": {},
   "outputs": [],
   "source": [
    "#import dependencies\n",
    "from bs4 import BeautifulSoup as bs\n",
    "import pandas as pd\n",
    "import requests\n",
    "from splinter import Browser\n"
   ]
  },
  {
   "cell_type": "code",
   "execution_count": 6,
   "metadata": {},
   "outputs": [],
   "source": [
    "#initiate splinter\n",
    "executable_path = {'executable_path': 'chromedriver.exe'}\n",
    "browser = Browser('chrome', **executable_path, headless=False)"
   ]
  },
  {
   "cell_type": "code",
   "execution_count": 4,
   "metadata": {},
   "outputs": [
    {
     "name": "stdout",
     "output_type": "stream",
     "text": [
      "MarCO Makes Space for Small Explorers\n",
      "A pair of NASA CubeSats flying to Mars are opening a new frontier for small spacecraft.\n"
     ]
    }
   ],
   "source": [
    "#scrape NASA Mars News\n",
    "#set the url to be scraped\n",
    "nasa_url = 'https://mars.nasa.gov/news/'\n",
    "\n",
    "#visit the site via splinter\n",
    "browser.visit(nasa_url)\n",
    "nasa_html = browser.html\n",
    "nasa_soup = bs(nasa_html, 'lxml')\n",
    "\n",
    "#get the most recent news tile\n",
    "nasa_title = nasa_soup.find('div', class_='content_title').text\n",
    "print(nasa_title)\n",
    "\n",
    "#get the teaser associated with that title\n",
    "nasa_teaser = nasa_soup.find('div', class_='article_teaser_body').text\n",
    "print(nasa_teaser)"
   ]
  },
  {
   "cell_type": "code",
   "execution_count": null,
   "metadata": {},
   "outputs": [],
   "source": [
    "#scrape JPL Mars Space Images for Featured Image\n",
    "#set the url to be scaped\n",
    "jpl_url = 'https://www.jpl.nasa.gov/spaceimages/?search=&category=Mars'\n",
    "\n",
    "#visit the site via splinter\n",
    "browser.visit(jpl_url)\n",
    "jpl_html = browser.html\n",
    "jpl_soup = bs(jpl_html, 'lxml')\n",
    "\n",
    "#retrieve the featured image\n",
    "featured_image = jpl_soup.find('a', class_='button fancybox')\n",
    "jpl_pic_page = 'https://www.jpl.nasa.gov' + featured_image['data-link']\n",
    "browser.visit(jpl_pic_page)\n",
    "jpl_pic_page_html = browser.html\n",
    "jpl_pic_soup = bs(jpl_pic_page_html, 'lxml')\n",
    "jpl_pic_url = jpl_pic_soup.find('figure', class_='lede').find('a')['href']\n",
    "print(jpl_pic_url)"
   ]
  },
  {
   "cell_type": "code",
   "execution_count": 30,
   "metadata": {},
   "outputs": [
    {
     "name": "stdout",
     "output_type": "stream",
     "text": [
      "/spaceimages/images/largesize/PIA17924_hires.jpg\n"
     ]
    }
   ],
   "source": [
    "print(jpl_pic_soup.find('figure', class_='lede').find('a')['href'])"
   ]
  },
  {
   "cell_type": "code",
   "execution_count": 24,
   "metadata": {},
   "outputs": [],
   "source": [
    "image = jpl_soup.find('a', class_='button fancybox')"
   ]
  },
  {
   "cell_type": "code",
   "execution_count": 26,
   "metadata": {},
   "outputs": [
    {
     "name": "stdout",
     "output_type": "stream",
     "text": [
      "/spaceimages/details.php?id=PIA17924\n"
     ]
    }
   ],
   "source": [
    "print(image['data-link'])"
   ]
  },
  {
   "cell_type": "code",
   "execution_count": null,
   "metadata": {},
   "outputs": [],
   "source": []
  }
 ],
 "metadata": {
  "kernelspec": {
   "display_name": "Python [conda env:PythonData]",
   "language": "python",
   "name": "conda-env-PythonData-py"
  },
  "language_info": {
   "codemirror_mode": {
    "name": "ipython",
    "version": 3
   },
   "file_extension": ".py",
   "mimetype": "text/x-python",
   "name": "python",
   "nbconvert_exporter": "python",
   "pygments_lexer": "ipython3",
   "version": "3.6.5"
  }
 },
 "nbformat": 4,
 "nbformat_minor": 2
}
