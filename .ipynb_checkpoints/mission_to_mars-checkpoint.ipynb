{
 "cells": [
  {
   "cell_type": "code",
   "execution_count": 1,
   "metadata": {},
   "outputs": [],
   "source": [
    "#import dependencies\n",
    "from bs4 import BeautifulSoup as bs\n",
    "import pandas as pd\n",
    "import requests\n",
    "from splinter import Browser\n"
   ]
  },
  {
   "cell_type": "code",
   "execution_count": 6,
   "metadata": {},
   "outputs": [],
   "source": [
    "#initiate splinter\n",
    "executable_path = {'executable_path': 'chromedriver.exe'}\n",
    "browser = Browser('chrome', **executable_path, headless=False)"
   ]
  },
  {
   "cell_type": "code",
   "execution_count": 4,
   "metadata": {},
   "outputs": [
    {
     "name": "stdout",
     "output_type": "stream",
     "text": [
      "MarCO Makes Space for Small Explorers\n",
      "A pair of NASA CubeSats flying to Mars are opening a new frontier for small spacecraft.\n"
     ]
    }
   ],
   "source": [
    "#scrape NASA Mars News\n",
    "#set the url to be scraped\n",
    "nasa_url = 'https://mars.nasa.gov/news/'\n",
    "\n",
    "#visit the site via splinter\n",
    "browser.visit(nasa_url)\n",
    "nasa_html = browser.html\n",
    "nasa_soup = bs(nasa_html, 'lxml')\n",
    "\n",
    "#get the most recent news tile\n",
    "nasa_title = nasa_soup.find('div', class_='content_title').text\n",
    "print(nasa_title)\n",
    "\n",
    "#get the teaser associated with that title\n",
    "nasa_teaser = nasa_soup.find('div', class_='article_teaser_body').text\n",
    "print(nasa_teaser)"
   ]
  },
  {
   "cell_type": "code",
   "execution_count": 32,
   "metadata": {},
   "outputs": [
    {
     "name": "stdout",
     "output_type": "stream",
     "text": [
      "https://www.jpl.nasa.gov/spaceimages/images/largesize/PIA17924_hires.jpg\n"
     ]
    }
   ],
   "source": [
    "#scrape JPL Mars Space Images for Featured Image\n",
    "#set the url to be scaped\n",
    "jpl_url = 'https://www.jpl.nasa.gov/spaceimages/?search=&category=Mars'\n",
    "\n",
    "#visit the site via splinter\n",
    "browser.visit(jpl_url)\n",
    "jpl_html = browser.html\n",
    "jpl_soup = bs(jpl_html, 'lxml')\n",
    "\n",
    "#retrieve the featured image\n",
    "featured_image = jpl_soup.find('a', class_='button fancybox')\n",
    "jpl_pic_page = 'https://www.jpl.nasa.gov' + featured_image['data-link']\n",
    "browser.visit(jpl_pic_page)\n",
    "jpl_pic_page_html = browser.html\n",
    "jpl_pic_soup = bs(jpl_pic_page_html, 'lxml')\n",
    "jpl_pic_url = 'https://www.jpl.nasa.gov' + jpl_pic_soup.find('figure', class_='lede').find('a')['href']\n",
    "print(jpl_pic_url)"
   ]
  },
  {
   "cell_type": "code",
   "execution_count": 37,
   "metadata": {},
   "outputs": [
    {
     "name": "stdout",
     "output_type": "stream",
     "text": [
      "Sol 2171 (2018-09-14), high -12C/10F, low -65C/-84F, pressure at 8.79 hPa, daylight 05:43-17:59\n"
     ]
    }
   ],
   "source": [
    "#scrape the Mars Weather Twitter page\n",
    "weather_url = \"https://twitter.com/marswxreport?lang=en\"\n",
    "weather_response = requests.get(weather_url)\n",
    "weather_soup = bs(weather_response.text, 'lxml')\n",
    "mars_weather = weather_soup.find('div', class_='js-tweet-text-container').find('p').text\n",
    "print(mars_weather)"
   ]
  },
  {
   "cell_type": "code",
   "execution_count": null,
   "metadata": {},
   "outputs": [],
   "source": []
  }
 ],
 "metadata": {
  "kernelspec": {
   "display_name": "Python [conda env:PythonData]",
   "language": "python",
   "name": "conda-env-PythonData-py"
  },
  "language_info": {
   "codemirror_mode": {
    "name": "ipython",
    "version": 3
   },
   "file_extension": ".py",
   "mimetype": "text/x-python",
   "name": "python",
   "nbconvert_exporter": "python",
   "pygments_lexer": "ipython3",
   "version": "3.6.5"
  }
 },
 "nbformat": 4,
 "nbformat_minor": 2
}
