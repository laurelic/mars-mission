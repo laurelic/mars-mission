{
 "cells": [
  {
   "cell_type": "code",
   "execution_count": 1,
   "metadata": {},
   "outputs": [],
   "source": [
    "#import dependencies\n",
    "from bs4 import BeautifulSoup as bs\n",
    "import pandas as pd\n",
    "import requests\n",
    "from splinter import Browser\n"
   ]
  },
  {
   "cell_type": "code",
   "execution_count": 2,
   "metadata": {},
   "outputs": [],
   "source": [
    "#initiate splinter\n",
    "executable_path = {'executable_path': 'chromedriver.exe'}\n",
    "browser = Browser('chrome', **executable_path, headless=True)"
   ]
  },
  {
   "cell_type": "code",
   "execution_count": 3,
   "metadata": {},
   "outputs": [
    {
     "name": "stdout",
     "output_type": "stream",
     "text": [
      "NASA InSight Lander 'Hears' Martian Winds \n",
      "Vibrations picked up by two spacecraft instruments have provided the first sounds of Martian wind.\n"
     ]
    }
   ],
   "source": [
    "#scrape NASA Mars News\n",
    "#set the url to be scraped\n",
    "nasa_url = 'https://mars.nasa.gov/news/'\n",
    "\n",
    "#visit the site via splinter\n",
    "browser.visit(nasa_url)\n",
    "nasa_html = browser.html\n",
    "nasa_soup = bs(nasa_html, 'lxml')\n",
    "\n",
    "#get the most recent news tile\n",
    "nasa_title = nasa_soup.find('div', class_='content_title').text\n",
    "print(nasa_title)\n",
    "\n",
    "#get the teaser associated with that title\n",
    "nasa_teaser = nasa_soup.find('div', class_='article_teaser_body').text\n",
    "print(nasa_teaser)"
   ]
  },
  {
   "cell_type": "code",
   "execution_count": 4,
   "metadata": {},
   "outputs": [
    {
     "name": "stdout",
     "output_type": "stream",
     "text": [
      "https://www.jpl.nasa.gov/spaceimages/images/largesize/PIA19113_hires.jpg\n"
     ]
    }
   ],
   "source": [
    "#scrape JPL Mars Space Images for Featured Image\n",
    "#set the url to be scaped\n",
    "jpl_url = 'https://www.jpl.nasa.gov/spaceimages/?search=&category=Mars'\n",
    "\n",
    "#visit the site via splinter\n",
    "browser.visit(jpl_url)\n",
    "jpl_html = browser.html\n",
    "jpl_soup = bs(jpl_html, 'lxml')\n",
    "\n",
    "#retrieve the featured image\n",
    "featured_image = jpl_soup.find('a', class_='button fancybox')\n",
    "jpl_pic_page = 'https://www.jpl.nasa.gov' + featured_image['data-link']\n",
    "browser.visit(jpl_pic_page)\n",
    "jpl_pic_page_html = browser.html\n",
    "jpl_pic_soup = bs(jpl_pic_page_html, 'lxml')\n",
    "jpl_pic_url = 'https://www.jpl.nasa.gov' + jpl_pic_soup.find('figure', class_='lede').find('a')['href']\n",
    "print(jpl_pic_url)"
   ]
  },
  {
   "cell_type": "code",
   "execution_count": 5,
   "metadata": {},
   "outputs": [
    {
     "name": "stdout",
     "output_type": "stream",
     "text": [
      "Listen to northwesterly winds blowing at 10-15 mph across the deck of the @NASAInSight landerhttps://www.youtube.com/watch?v=o3cxuIsEFRM …\n"
     ]
    }
   ],
   "source": [
    "#scrape the Mars Weather Twitter page\n",
    "#set the url to be scraped\n",
    "weather_url = \"https://twitter.com/marswxreport?lang=en\"\n",
    "\n",
    "#call the page\n",
    "weather_response = requests.get(weather_url)\n",
    "weather_soup = bs(weather_response.text, 'lxml')\n",
    "\n",
    "#retrieve the first tweet for latest weather update\n",
    "mars_weather = weather_soup.find('div', class_='js-tweet-text-container').find('p').text\n",
    "print(mars_weather)"
   ]
  },
  {
   "cell_type": "code",
   "execution_count": 16,
   "metadata": {},
   "outputs": [
    {
     "data": {
      "text/html": [
       "<div>\n",
       "<style scoped>\n",
       "    .dataframe tbody tr th:only-of-type {\n",
       "        vertical-align: middle;\n",
       "    }\n",
       "\n",
       "    .dataframe tbody tr th {\n",
       "        vertical-align: top;\n",
       "    }\n",
       "\n",
       "    .dataframe thead th {\n",
       "        text-align: right;\n",
       "    }\n",
       "</style>\n",
       "<table border=\"1\" class=\"dataframe\">\n",
       "  <thead>\n",
       "    <tr style=\"text-align: right;\">\n",
       "      <th></th>\n",
       "      <th></th>\n",
       "    </tr>\n",
       "    <tr>\n",
       "      <th>Feature</th>\n",
       "      <th>Stat</th>\n",
       "    </tr>\n",
       "  </thead>\n",
       "  <tbody>\n",
       "    <tr>\n",
       "      <th>Equatorial Diameter:</th>\n",
       "      <th>6,792 km</th>\n",
       "    </tr>\n",
       "    <tr>\n",
       "      <th>Polar Diameter:</th>\n",
       "      <th>6,752 km</th>\n",
       "    </tr>\n",
       "    <tr>\n",
       "      <th>Mass:</th>\n",
       "      <th>6.42 x 10^23 kg (10.7% Earth)</th>\n",
       "    </tr>\n",
       "    <tr>\n",
       "      <th>Moons:</th>\n",
       "      <th>2 (Phobos &amp; Deimos)</th>\n",
       "    </tr>\n",
       "    <tr>\n",
       "      <th>Orbit Distance:</th>\n",
       "      <th>227,943,824 km (1.52 AU)</th>\n",
       "    </tr>\n",
       "    <tr>\n",
       "      <th>Orbit Period:</th>\n",
       "      <th>687 days (1.9 years)</th>\n",
       "    </tr>\n",
       "    <tr>\n",
       "      <th>Surface Temperature:</th>\n",
       "      <th>-153 to 20 °C</th>\n",
       "    </tr>\n",
       "    <tr>\n",
       "      <th>First Record:</th>\n",
       "      <th>2nd millennium BC</th>\n",
       "    </tr>\n",
       "    <tr>\n",
       "      <th>Recorded By:</th>\n",
       "      <th>Egyptian astronomers</th>\n",
       "    </tr>\n",
       "  </tbody>\n",
       "</table>\n",
       "</div>"
      ],
      "text/plain": [
       "Empty DataFrame\n",
       "Columns: []\n",
       "Index: [(Equatorial Diameter:, 6,792 km), (Polar Diameter:, 6,752 km), (Mass:, 6.42 x 10^23 kg (10.7% Earth)), (Moons:, 2 (Phobos & Deimos)), (Orbit Distance:, 227,943,824 km (1.52 AU)), (Orbit Period:, 687 days (1.9 years)), (Surface Temperature:, -153 to 20 °C), (First Record:, 2nd millennium BC), (Recorded By:, Egyptian astronomers)]"
      ]
     },
     "execution_count": 16,
     "metadata": {},
     "output_type": "execute_result"
    }
   ],
   "source": [
    "#scrape Mars Facts\n",
    "#set the url to be scraped\n",
    "facts_url = 'http://space-facts.com/mars/'\n",
    "\n",
    "#scrape the table from the site\n",
    "facts_table = pd.read_html(facts_url)\n",
    "\n",
    "#convert the scrape into a DataFrame\n",
    "facts_df = facts_table[0]\n",
    "facts_df.columns = ['Feature', 'Stat']\n",
    "facts_df = facts_df.set_index(['Feature', 'Stat'])\n",
    "facts_df"
   ]
  },
  {
   "cell_type": "code",
   "execution_count": 17,
   "metadata": {},
   "outputs": [
    {
     "data": {
      "text/plain": [
       "'<table border=\"1\" class=\"dataframe\">  <thead>    <tr style=\"text-align: right;\">      <th></th>      <th></th>    </tr>    <tr>      <th>Feature</th>      <th>Stat</th>    </tr>  </thead>  <tbody>    <tr>      <th>Equatorial Diameter:</th>      <th>6,792 km</th>    </tr>    <tr>      <th>Polar Diameter:</th>      <th>6,752 km</th>    </tr>    <tr>      <th>Mass:</th>      <th>6.42 x 10^23 kg (10.7% Earth)</th>    </tr>    <tr>      <th>Moons:</th>      <th>2 (Phobos &amp; Deimos)</th>    </tr>    <tr>      <th>Orbit Distance:</th>      <th>227,943,824 km (1.52 AU)</th>    </tr>    <tr>      <th>Orbit Period:</th>      <th>687 days (1.9 years)</th>    </tr>    <tr>      <th>Surface Temperature:</th>      <th>-153 to 20 °C</th>    </tr>    <tr>      <th>First Record:</th>      <th>2nd millennium BC</th>    </tr>    <tr>      <th>Recorded By:</th>      <th>Egyptian astronomers</th>    </tr>  </tbody></table>'"
      ]
     },
     "execution_count": 17,
     "metadata": {},
     "output_type": "execute_result"
    }
   ],
   "source": [
    "#convert the dataframe to html\n",
    "html_facts = facts_df.to_html()\n",
    "html_facts = html_facts.replace('\\n', '')\n",
    "html_facts"
   ]
  },
  {
   "cell_type": "code",
   "execution_count": 18,
   "metadata": {},
   "outputs": [
    {
     "name": "stdout",
     "output_type": "stream",
     "text": [
      "[{'title': 'Cerberus Hemisphere', 'img_url': 'http://astropedia.astrogeology.usgs.gov/download/Mars/Viking/cerberus_enhanced.tif/full.jpg'}, {'title': 'Schiaparelli Hemisphere', 'img_url': 'http://astropedia.astrogeology.usgs.gov/download/Mars/Viking/schiaparelli_enhanced.tif/full.jpg'}, {'title': 'Syrtis Major Hemisphere', 'img_url': 'http://astropedia.astrogeology.usgs.gov/download/Mars/Viking/syrtis_major_enhanced.tif/full.jpg'}, {'title': 'Valles Marineris Hemisphere', 'img_url': 'http://astropedia.astrogeology.usgs.gov/download/Mars/Viking/valles_marineris_enhanced.tif/full.jpg'}]\n"
     ]
    }
   ],
   "source": [
    "#scrape USGS photos of hemispheres\n",
    "#set the url to be scraped\n",
    "usgs_url = 'https://astrogeology.usgs.gov/search/results?q=hemisphere+enhanced&k1=target&v1=Mars'\n",
    "\n",
    "#create beautiful soup element\n",
    "usgs_response = requests.get(usgs_url)\n",
    "usgs_soup = bs(usgs_response.text, 'lxml')\n",
    "\n",
    "#initiate an empty list to store dictionaries or urls and titles\n",
    "hemispheres = []\n",
    "\n",
    "#scape all hemispheres and store in dictionaries\n",
    "hemisphere_scrape = usgs_soup.find_all('div', class_='item')\n",
    "\n",
    "for hemisphere in hemisphere_scrape:\n",
    "    #find the link to the hemiphere's page\n",
    "    h_page = hemisphere.find('a', class_='itemLink product-item')['href']\n",
    "    hemisphere_url = 'https://astrogeology.usgs.gov' + h_page\n",
    "    \n",
    "    #create a beautiful soup object of the page\n",
    "    hemisphere_response = requests.get(hemisphere_url)\n",
    "    hemisphere_soup = bs(hemisphere_response.text, 'lxml')\n",
    "    \n",
    "    #find the image url\n",
    "    hemisphere_pic_url = hemisphere_soup.find('div', class_='downloads').find('a')['href']\n",
    "    \n",
    "    #find the hemisphere name\n",
    "    hemisphere_name = hemisphere_soup.find('h2').text.replace(' Enhanced', '')\n",
    "    \n",
    "    #store the image url and hemisphere name in the hemisphere list\n",
    "    hemisphere = {'title': hemisphere_name, 'img_url': hemisphere_pic_url}\n",
    "    hemispheres.append(hemisphere)\n",
    "\n",
    "print(hemispheres)"
   ]
  },
  {
   "cell_type": "code",
   "execution_count": null,
   "metadata": {},
   "outputs": [],
   "source": []
  }
 ],
 "metadata": {
  "kernelspec": {
   "display_name": "Python [conda env:PythonData]",
   "language": "python",
   "name": "conda-env-PythonData-py"
  },
  "language_info": {
   "codemirror_mode": {
    "name": "ipython",
    "version": 3
   },
   "file_extension": ".py",
   "mimetype": "text/x-python",
   "name": "python",
   "nbconvert_exporter": "python",
   "pygments_lexer": "ipython3",
   "version": "3.6.5"
  }
 },
 "nbformat": 4,
 "nbformat_minor": 2
}
